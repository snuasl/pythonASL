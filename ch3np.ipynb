{
 "nbformat": 4,
 "nbformat_minor": 2,
 "metadata": {
  "language_info": {
   "name": "python",
   "codemirror_mode": {
    "name": "ipython",
    "version": 3
   },
   "version": "3.7.3-final"
  },
  "orig_nbformat": 2,
  "file_extension": ".py",
  "mimetype": "text/x-python",
  "name": "python",
  "npconvert_exporter": "python",
  "pygments_lexer": "ipython3",
  "version": 3,
  "kernelspec": {
   "name": "python3",
   "display_name": "Python 3"
  }
 },
 "cells": [
  {
   "cell_type": "code",
   "execution_count": 4,
   "metadata": {},
   "outputs": [
    {
     "name": "stdout",
     "output_type": "stream",
     "text": "Type :  <class 'numpy.ndarray'>  shape :  (3,)  dimension :  1\nType :  <class 'list'>  size :  3\n"
    }
   ],
   "source": [
    "# -*- coding: utf-8 -*- \n",
    "import numpy as np \n",
    "\n",
    "arr1d = np.array([0, 1, 2])\n",
    "print(\"Type : \", type(arr1d), \" shape : \", arr1d.shape, \" dimension : \", arr1d.ndim)\n",
    "\n",
    "list1d = [0, 1, 2]\n",
    "print(\"Type : \", type(list1d), \" size : \", np.size(list1d))"
   ]
  },
  {
   "cell_type": "code",
   "execution_count": 7,
   "metadata": {},
   "outputs": [
    {
     "name": "stdout",
     "output_type": "stream",
     "text": "arr1+arr2 :  [-1  3  5]\narr1+list1d :  [0 2 4]\n"
    }
   ],
   "source": [
    "arr1 = np.array([0, 1, 2])\n",
    "arr2 = np.array([-1, 2, 3])\n",
    "\n",
    "print(\"arr1+arr2 : \", arr1+arr2)\n",
    "\n",
    "list1d = [0, 1, 2]\n",
    "\n",
    "print(\"arr1+list1d : \", arr1+list1d)\n"
   ]
  },
  {
   "cell_type": "code",
   "execution_count": 14,
   "metadata": {},
   "outputs": [
    {
     "name": "stdout",
     "output_type": "stream",
     "text": "Type :  <class 'numpy.ndarray'>  shape :  (2, 2)  dimension :  2\narr2d :  [[0 1]\n [2 3]]\nType :  <class 'numpy.ndarray'>  shape :  (3, 2)  dimension :  2\narrblank :  [[0. 0.]\n [0. 0.]\n [0. 0.]]\na+b :  [[ 6  8]\n [10 12]]\na-b :  [[-4 -4]\n [-4 -4]]\na*b :  [[ 5 12]\n [21 32]]\na@b(a dot b) :  [[19 22]\n [43 50]]\nnp.dot(a,b) :  [[19 22]\n [43 50]]\n"
    }
   ],
   "source": [
    "arr2d = np.array([[0, 1], [2, 3]])\n",
    "print(\"Type : \", type(arr2d), \" shape : \", arr2d.shape, \" dimension : \", arr2d.ndim)\n",
    "print(\"arr2d : \", arr2d)\n",
    "\n",
    "arrblank = np.zeros(shape=(3,2))\n",
    "print(\"Type : \", type(arrblank), \" shape : \", arrblank.shape, \" dimension : \", arrblank.ndim)\n",
    "print(\"arrblank : \", arrblank)\n",
    "\n",
    "a = np.array([[1,2], [3,4]])\n",
    "b = np.array([[5,6], [7,8]])\n",
    "print(\"a+b : \", a+b)\n",
    "print(\"a-b : \", a-b)\n",
    "print(\"a*b : \", a*b)\n",
    "print(\"a@b(a dot b) : \", a@b)\n",
    "print(\"np.dot(a,b) : \", np.dot(a,b))"
   ]
  },
  {
   "cell_type": "code",
   "execution_count": 3,
   "metadata": {},
   "outputs": [
    {
     "name": "stdout",
     "output_type": "stream",
     "text": "Element X Element - a*b(array) :  [[ 1  6]\n [ 6 16]]\nMatrix multiply - ma*mb(matrix) :  [[ 5 11]\n [11 25]]\nSum of matrix - np.sum(m1) :  10\nInverse matrix - m1.I :  [[-2.   1. ]\n [ 1.5 -0.5]]\nTranspose matrix - m1.transpose() :  [[1 3]\n [2 4]]\n"
    }
   ],
   "source": [
    "import numpy as np\n",
    "\n",
    "a = np.array([[1, 2], [3, 4]])\n",
    "b = np.array([[1, 3], [2, 4]])\n",
    "\n",
    "print(\"Element X Element - a*b(array) : \",a*b)\n",
    "\n",
    "# ma = np.matrix([[1, 2], [3, 4]]) also possible\n",
    "\n",
    "ma = np.mat(a)\n",
    "mb = np.mat(b)\n",
    "\n",
    "print(\"Matrix multiply - ma*mb(matrix) : \", ma*mb)\n",
    "\n",
    "m1 = np.matrix([[1,2], [3,4]])\n",
    "sum1 = np.sum(m1)\n",
    "\n",
    "print(\"Sum of matrix - np.sum(m1) : \", sum1)\n",
    "print(\"Inverse matrix - m1.I : \", m1.I)\n",
    "print(\"Transpose matrix - m1.transpose() : \", m1.transpose())"
   ]
  },
  {
   "cell_type": "code",
   "execution_count": 7,
   "metadata": {},
   "outputs": [
    {
     "name": "stdout",
     "output_type": "stream",
     "text": "arr : \n[ 0  1  2  3  4  5  6  7  8  9 10 11 12 13 14 15 16 17 18 19 20 21 22 23\n 24 25 26 27 28 29 30 31]\nv (arr.reshape([4, 2, 4])) : \n[[[ 0  1  2  3]\n  [ 4  5  6  7]]\n\n [[ 8  9 10 11]\n  [12 13 14 15]]\n\n [[16 17 18 19]\n  [20 21 22 23]]\n\n [[24 25 26 27]\n  [28 29 30 31]]]\nv.ndim :  3\nv.sum :  496\nres01.shape :  (2, 4)\nres01 : \n[[48 52 56 60]\n [64 68 72 76]]\nres02.shape :  (4, 4)\nres02 : \n[[ 4  6  8 10]\n [20 22 24 26]\n [36 38 40 42]\n [52 54 56 58]]\nres03.shape :  (4, 2)\nres03 : \n[[  6  22]\n [ 38  54]\n [ 70  86]\n [102 118]]\n"
    }
   ],
   "source": [
    "import numpy as np \n",
    "arr = np.arange(0, 4*2*4)\n",
    "\n",
    "print(\"arr : \")\n",
    "print(arr)\n",
    "\n",
    "# 1d -> [4, 2, 4]; row: 4, column: 2, depth: 4\n",
    "v = arr.reshape([4,2,4]) \n",
    "print(\"v (arr.reshape([4, 2, 4])) : \")\n",
    "print(v)\n",
    "print(\"v.ndim : \", v.ndim)\n",
    "print(\"v.sum : \", v.sum())\n",
    "\n",
    "# axis=0 sum\n",
    "res01=v.sum(axis=0) \n",
    "print(\"res01.shape : \", res01.shape)\n",
    "print(\"res01 : \")\n",
    "print(res01)\n",
    "\n",
    "# axis=1 sum\n",
    "res02=v.sum(axis=1)  \n",
    "print(\"res02.shape : \", res02.shape)\n",
    "print(\"res02 : \")\n",
    "print(res02)\n",
    "\n",
    "# axis=2 sum\n",
    "res03=v.sum(axis=2)  \n",
    "print(\"res03.shape : \", res03.shape)\n",
    "print(\"res03 : \")\n",
    "print(res03)\n"
   ]
  },
  {
   "cell_type": "code",
   "execution_count": null,
   "metadata": {},
   "outputs": [],
   "source": []
  }
 ]
}