{
 "nbformat": 4,
 "nbformat_minor": 2,
 "metadata": {
  "language_info": {
   "name": "python",
   "codemirror_mode": {
    "name": "ipython",
    "version": 3
   },
   "version": "3.7.3-final"
  },
  "orig_nbformat": 2,
  "file_extension": ".py",
  "mimetype": "text/x-python",
  "name": "python",
  "npconvert_exporter": "python",
  "pygments_lexer": "ipython3",
  "version": 3,
  "kernelspec": {
   "name": "python3",
   "display_name": "Python 3"
  }
 },
 "cells": [
  {
   "cell_type": "code",
   "execution_count": null,
   "metadata": {},
   "outputs": [],
   "source": [
    "# -*- coding: utf-8 -*- \n",
    "import scipy.constants as constants\n",
    "\n",
    "# Physical Constants\n",
    "pi  = constants.pi                     # Pi is pi :)\n",
    "Boltzmann = constants.Boltzmann        # Boltzmann constant\n",
    "hbar = constants.hbar                  # Planck constants / 2*pi\n",
    "e_charge = constants.elementary_charge # Elementary e- charge \n",
    "el_e = constants.elementary_charge     # Elementary e- charge \n",
    "mu0 = constants.mu_0                   # Vacuum permeability\n",
    "mu_0 = constants.mu_0                  # Vacuum permeability\n",
    "eps_0 = constants.epsilon_0            # Vacuum permittivity\n",
    "c_light = constants.speed_of_light     # Vacuum speed of light"
   ]
  },
  {
   "cell_type": "code",
   "execution_count": 2,
   "metadata": {},
   "outputs": [
    {
     "name": "stdout",
     "output_type": "stream",
     "text": "Type of result :  <class 'tuple'>\nIntegrate result :  20.0\nApprox Error :  2.220446049250313e-13\n"
    }
   ],
   "source": [
    "import scipy.integrate as integrate\n",
    "\n",
    "# integrate using lambda function\n",
    "int1 = integrate.quad(lambda x: x**3, 1, 3)\n",
    "\n",
    "print(\"Type of result : \", type(int1)) # result is TUPLE!!\n",
    "print(\"Integrate result : \", int1[0])  # result value\n",
    "print(\"Approx Error : \", int1[1])      # result error"
   ]
  },
  {
   "cell_type": "code",
   "execution_count": 4,
   "metadata": {},
   "outputs": [
    {
     "name": "stdout",
     "output_type": "stream",
     "text": "Type of result :  <class 'tuple'>\nIntegrate result :  20.0\nApprox Error :  2.220446049250313e-13\n"
    }
   ],
   "source": [
    "import scipy.integrate as integrate\n",
    "\n",
    "# integrate using def function\n",
    "\n",
    "def func1(x):\n",
    "    return x**3\n",
    "\n",
    "int1 = integrate.quad(func1, 1, 3)\n",
    "\n",
    "print(\"Type of result : \", type(int1)) # result is TUPLE!!\n",
    "print(\"Integrate result : \", int1[0])  # result value\n",
    "print(\"Approx Error : \", int1[1])      # result error"
   ]
  },
  {
   "cell_type": "code",
   "execution_count": 5,
   "metadata": {},
   "outputs": [
    {
     "name": "stdout",
     "output_type": "stream",
     "text": "Type of result :  <class 'tuple'>\nIntegrate result :  1.6666666666666667\nApprox Error :  1.8503717077085944e-14\n"
    }
   ],
   "source": [
    "import scipy.integrate as integrate\n",
    "\n",
    "# integrate neglecting some arguments\n",
    "\n",
    "def func1(x, a, b):\n",
    "    return a*x**2 + b\n",
    "\n",
    "a = 2\n",
    "b = 1\n",
    "\n",
    "result = integrate.quad(func1, 0, 1, args=(a, b))\n",
    "print(\"Type of result : \", type(result)) # result is TUPLE!!\n",
    "print(\"Integrate result : \", result[0])  # result value\n",
    "print(\"Approx Error : \", result[1])      # result error"
   ]
  },
  {
   "cell_type": "code",
   "execution_count": null,
   "metadata": {},
   "outputs": [],
   "source": []
  }
 ]
}