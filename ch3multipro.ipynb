{
 "nbformat": 4,
 "nbformat_minor": 2,
 "metadata": {
  "language_info": {
   "name": "python",
   "codemirror_mode": {
    "name": "ipython",
    "version": 3
   },
   "version": "3.7.3-final"
  },
  "orig_nbformat": 2,
  "file_extension": ".py",
  "mimetype": "text/x-python",
  "name": "python",
  "npconvert_exporter": "python",
  "pygments_lexer": "ipython3",
  "version": 3,
  "kernelspec": {
   "name": "python3",
   "display_name": "Python 3"
  }
 },
 "cells": [
  {
   "cell_type": "code",
   "execution_count": 1,
   "metadata": {},
   "outputs": [],
   "source": [
    "import time \n",
    "import multiprocessing \n",
    "import scipy.integrate as integrate\n",
    "\n",
    "# to check time (start)\n",
    "t1 = time.time()\n",
    "\n",
    "def process_ex(func):\n",
    "    for i in range(100000):\n",
    "        # integrate different equation as input func changes\n",
    "        result = integrate.quad(lambda x: func*x**2+func*x, 0, 5)\n",
    "    print(\"Job Finished!\")\n",
    "\n",
    "process_list = [1, 2, 3, 4]\n",
    "\n",
    "# check how many cpu available\n",
    "numCores = multiprocessing.cpu_count()\n",
    "pool = multiprocessing.Pool(processes=numCores)\n",
    "pool.map(process_ex, process_list)\n",
    "pool.close()\n",
    "pool.join()\n",
    "\n",
    "# to check time (end)\n",
    "t2 = time.time()\n",
    "print(\"Elapsed time: \", t2-t1)"
   ]
  },
  {
   "cell_type": "code",
   "execution_count": 6,
   "metadata": {},
   "outputs": [
    {
     "name": "stdout",
     "output_type": "stream",
     "text": "1 Job Finished!\n2 Job Finished!\n3 Job Finished!\n4 Job Finished!\n5 Job Finished!\n6 Job Finished!\n7 Job Finished!\n8 Job Finished!\nElapsed time:  6.076720476150513\n"
    }
   ],
   "source": [
    "import time \n",
    "import scipy.integrate as integrate\n",
    "\n",
    "# to check time (start)\n",
    "t1 = time.time()\n",
    "\n",
    "def process_ex(func):\n",
    "    for i in range(100000):\n",
    "        # integrate different equation as input func changes\n",
    "        result = integrate.quad(lambda x: func*x**2+func*x, 0, 5)\n",
    "    print(\"%d Job Finished!\" %(func))\n",
    "\n",
    "process_list = [1, 2, 3, 4, 5, 6, 7, 8]\n",
    "\n",
    "# 1-2-3-4 process_ex operation\n",
    "for i in process_list:\n",
    "    process_ex(i)\n",
    "\n",
    "# to check time (end)\n",
    "t2 = time.time()\n",
    "print(\"Elapsed time: \", t2-t1)"
   ]
  },
  {
   "cell_type": "code",
   "execution_count": 1,
   "metadata": {},
   "outputs": [
    {
     "name": "stdout",
     "output_type": "stream",
     "text": "Elapsed time:  18.47560954093933\n"
    }
   ],
   "source": [
    "import time \n",
    "import scipy.integrate as integrate\n",
    "\n",
    "def integrand(x, a, b, c, d, e, f):\n",
    "    result = a*x**5 \n",
    "    result = result + b*x**4\n",
    "    result = result + c*x**3\n",
    "    result = result + d*x**2\n",
    "    result = result + e*x\n",
    "    result = result + f\n",
    "    return result\n",
    "\n",
    "# to check time (start)\n",
    "t1 = time.time()\n",
    "\n",
    "for a in range(10):\n",
    "    for b in range(10):\n",
    "        for c in range(10):\n",
    "            for d in range(10):\n",
    "                for e in range(10):\n",
    "                    for f in range(10):\n",
    "                        _ = integrate.quad(integrand, 0, 1, args=(a, b, c, d, e, f))\n",
    "\n",
    "# to check time (end)\n",
    "t2 = time.time()\n",
    "print(\"Elapsed time: \", t2-t1)"
   ]
  },
  {
   "cell_type": "code",
   "execution_count": null,
   "metadata": {},
   "outputs": [],
   "source": []
  }
 ]
}