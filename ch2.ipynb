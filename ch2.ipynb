{
 "nbformat": 4,
 "nbformat_minor": 2,
 "metadata": {
  "language_info": {
   "name": "python",
   "codemirror_mode": {
    "name": "ipython",
    "version": 3
   },
   "version": "3.7.3-final"
  },
  "orig_nbformat": 2,
  "file_extension": ".py",
  "mimetype": "text/x-python",
  "name": "python",
  "npconvert_exporter": "python",
  "pygments_lexer": "ipython3",
  "version": 3,
  "kernelspec": {
   "name": "python3",
   "display_name": "Python 3"
  }
 },
 "cells": [
  {
   "cell_type": "code",
   "execution_count": 10,
   "metadata": {},
   "outputs": [
    {
     "name": "stdout",
     "output_type": "stream",
     "text": "a :  <class 'int'> 10\nb :  <class 'float'> 10.0\nc :  <class 'str'> this is string class\nd :  <class 'list'> ['this', 'is', 'how to', 'define', 'a list']\n"
    }
   ],
   "source": [
    "# a is integer class\n",
    "a = 10 \n",
    "\n",
    "# b is float class\n",
    "b = 10.0 \n",
    "\n",
    "# c is string class\n",
    "c = \"this is string class\" \n",
    "\n",
    "# d is list class\n",
    "d = [\"this\", \"is\", \"how to\", \"define\", \"a list\"]\n",
    "\n",
    "print(\"a : \", type(a), a)\n",
    "print(\"b : \", type(b), b)\n",
    "print(\"c : \", type(c), c)\n",
    "print(\"d : \", type(d), d)"
   ]
  },
  {
   "cell_type": "code",
   "execution_count": 11,
   "metadata": {},
   "outputs": [
    {
     "name": "stdout",
     "output_type": "stream",
     "text": "a+b :  <class 'float'> 7.0\na*b :  <class 'float'> 12.0\na/b :  <class 'float'> 0.75\na/b(int) :  <class 'float'> 0.75\na%%b :  <class 'float'> 3.0\na^b :  <class 'float'> 81.0\nsqrt(a) :  <class 'float'> 1.7320508075688772\n"
    }
   ],
   "source": [
    "# -*- coding: utf-8 -*- \n",
    "\n",
    "# a is integer\n",
    "a = 3\n",
    "\n",
    "# b is float\n",
    "b = 4.0\n",
    "\n",
    "# bINT is integer\n",
    "bINT = 4\n",
    "\n",
    "# a plus b is float type\n",
    "aPLUSb = a + b\n",
    "print(\"a+b : \", type(aPLUSb), aPLUSb)\n",
    "\n",
    "# a x b is float type\n",
    "aMULb = a * b\n",
    "print(\"a*b : \", type(aMULb), aMULb)\n",
    "\n",
    "# a / b is float type\n",
    "aDIVb = a / b\n",
    "print(\"a/b : \", type(aDIVb), aDIVb)\n",
    "\n",
    "# (*NOTE) a / b_INT is float type \n",
    "aDIVbINT = a / bINT\n",
    "print(\"a/b(int) : \", type(aDIVbINT), aDIVbINT)\n",
    "\n",
    "# remainder when a / b \n",
    "aREMb = a % b\n",
    "print(\"a%%b : \", type(aREMb), aREMb)\n",
    "\n",
    "# a^b is float type. Note that a^b is incorrect form \n",
    "aPOWERb = a ** b\n",
    "print(\"a^b : \", type(aPOWERb), aPOWERb)\n",
    "\n",
    "import math # To use square root function\n",
    "\n",
    "aSQRT = math.sqrt(a)\n",
    "print(\"sqrt(a) : \", type(aSQRT), aSQRT)"
   ]
  },
  {
   "cell_type": "code",
   "execution_count": 13,
   "metadata": {},
   "outputs": [
    {
     "name": "stdout",
     "output_type": "stream",
     "text": "Real part of a :  1.0\nImaginary part of a :  3.0\na+b :  (2+0j)\na*b :  <class 'complex'> (10+0j)\na/b :  (-0.7999999999999999+0.6j)\na^c (316-12j)\nsqrt(a) :  (1.442615274452683+1.0397782600555705j)\nexp^(a) :  (-2.6910786138197937+0.383603953541131j)\nlog_10(a) :  (0.5+0.5424536865971469j)\nlog_e(a) :  (1.151292546497023+1.2490457723982544j)\n"
    }
   ],
   "source": [
    "# -*- coding: utf-8 -*- \n",
    "a = 1+3j\n",
    "b = 1-3j\n",
    "c = 5\n",
    "\n",
    "# real/imaginary part of a (complex number)\n",
    "aREAL = a.real\n",
    "aIMAG = a.imag\n",
    "print(\"Real part of a : \", aREAL)\n",
    "print(\"Imaginary part of a : \", aIMAG)\n",
    "\n",
    "# a plus b is complex type\n",
    "aPLUSb = a + b\n",
    "print(\"a+b : \", aPLUSb)\n",
    "\n",
    "# a multiply b is complex type\n",
    "aMULb = a * b\n",
    "print(\"a*b : \", type(aMULb), aMULb)\n",
    "\n",
    "# a divided by b is complex type\n",
    "aDIVb = a / b\n",
    "print(\"a/b : \", aDIVb)\n",
    "\n",
    "# (1+3j)^5\n",
    "aPOWERc = a ** c\n",
    "print(\"a^c\", aPOWERc)\n",
    "\n",
    "import cmath # To use complex number square root function\n",
    "\n",
    "# square root of a (1+3j)\n",
    "# (*NOTE) square root of complex needs \"cmath\" package!\n",
    "aSQRT = cmath.sqrt(a)\n",
    "print(\"sqrt(a) : \", aSQRT)\n",
    "\n",
    "# exp(a)\n",
    "aEXP = cmath.exp(a)\n",
    "print(\"exp^(a) : \", aEXP)\n",
    "\n",
    "# log_10(a)\n",
    "aLOG10 = cmath.log10(a)\n",
    "print(\"log_10(a) : \", aLOG10)\n",
    "\n",
    "# log_e(a)\n",
    "aLOGe = cmath.log(a)\n",
    "print(\"log_e(a) : \", aLOGe)"
   ]
  },
  {
   "cell_type": "code",
   "execution_count": 14,
   "metadata": {},
   "outputs": [
    {
     "name": "stdout",
     "output_type": "stream",
     "text": "str1 + str2 :  Hello World\n0th-3rd of str1 :  Hel\nstr1[-1] :  o\nstr1*4 :  HelloHelloHelloHello\n"
    }
   ],
   "source": [
    "# -*- coding: utf-8 -*- \n",
    "str1 = \"Hello\"\n",
    "str2 = \" World\"\n",
    "\n",
    "# you can add strings!\n",
    "print(\"str1 + str2 : \", str1+str2)\n",
    "\n",
    "# you can access strings first to 3th characters by index\n",
    "print(\"0th-3rd of str1 : \", str1[0:3])\n",
    "\n",
    "# -1 index means the last character\n",
    "print(\"str1[-1] : \", str1[-1])\n",
    "\n",
    "# you can multiply strings!  \n",
    "print(\"str1*4 : \", str1*4)"
   ]
  },
  {
   "cell_type": "code",
   "execution_count": 19,
   "metadata": {},
   "outputs": [
    {
     "name": "stdout",
     "output_type": "stream",
     "text": "a is :  [0, 0, 0, 'string element']\nb is :  [[1, 1, 1], [1, 2, 3], [4, 5, 6]]\nc is :  [[1 2 3]\n [3 4 5]\n [5 6 7]]\nShape of c is :  (3, 3)\n1st row of c is :  [1 2 3]\n1st column of c is :  [1 3 5]\nb + c array is :  [[ 2  3  4]\n [ 4  6  8]\n [ 9 11 13]]\nMatrix x is :  [[2 3]\n [4 5]]\nInverse matrix of x :  [[-2.5  1.5]\n [ 2.  -1. ]]\nShape of d is :  (2, 3)\nMatrix y is :  [1. 2. 3. 4.]\n"
    }
   ],
   "source": [
    "# a is 1-d list\n",
    "a = [0, 0, 0, \"string element\"]\n",
    "\n",
    "# b is 2d-list 3x3\n",
    "b = [[1, 1, 1], [1, 2, 3], [4, 5, 6]]\n",
    "\n",
    "print(\"a is : \", a)\n",
    "print(\"b is : \", b)\n",
    "\n",
    "import numpy as np\n",
    "\n",
    "# c is 2d-array 3x3\n",
    "c = np.array([[1, 2, 3],[3, 4, 5],[5, 6, 7]])\n",
    "\n",
    "print(\"c is : \", c)\n",
    "print(\"Shape of c is : \", np.shape(c))\n",
    "\n",
    "# print 1st row \n",
    "print(\"1st row of c is : \", c[0])\n",
    "\n",
    "# print 1st column\n",
    "print(\"1st column of c is : \", c[:,0])\n",
    "\n",
    "# print b+c array\n",
    "print(\"b + c array is : \", b+c)\n",
    "\n",
    "from numpy.linalg import inv\n",
    "x = np.matrix([[2,3],[4,5]])\n",
    "print(\"Matrix x is : \", x)\n",
    "\n",
    "# print inverse matrix of x \n",
    "# (*NOTE) you can't get an inverse matrix of 2d-array or list (only matrix!)\n",
    "print(\"Inverse matrix of x : \", inv(x))\n",
    "\n",
    "# empty list\n",
    "d = []\n",
    "\n",
    "# append a list row by row\n",
    "d.append([1,1,1])\n",
    "d.append([1,2,3])\n",
    "print(\"Shape of d is : \", np.shape(d))\n",
    "\n",
    "# divide an array by 3\n",
    "# (*NOTE) you CAN'T do this to list!!!\n",
    "y = np.array([3, 6, 9, 12])\n",
    "y = y/3.0\n",
    "\n",
    "print(\"Matrix y is : \", y)"
   ]
  },
  {
   "cell_type": "code",
   "execution_count": 17,
   "metadata": {},
   "outputs": [
    {
     "name": "stdout",
     "output_type": "stream",
     "text": "Memory address of list a :  1795157899272\nb = a :  [1, 2, 3, 4]\nMemory address of list b :  1795157899272\n"
    }
   ],
   "source": [
    "# -*- coding: utf-8 -*- \n",
    "a = [1,2,3,4]\n",
    "\n",
    "# memory address of list a\n",
    "print(\"Memory address of list a : \", id(a))\n",
    "\n",
    "# is b copy of a? or a itself?\n",
    "b = a\n",
    "print(\"b = a : \", b)\n",
    "print(\"Memory address of list b : \", id(b))"
   ]
  },
  {
   "cell_type": "code",
   "execution_count": 21,
   "metadata": {},
   "outputs": [
    {
     "name": "stdout",
     "output_type": "stream",
     "text": "a is :  [1, 2, 3, 4]\nAfter c is changed\na :  [1, 2, 3, 4]\nb :  [1, 2, 3, 4]\nc :  ['c[0] changed', 2, 3, 4]\nAfter b is changed\na :  ['b[0] changed', 2, 3, 4]\nb :  ['b[0] changed', 2, 3, 4]\nc :  ['c[0] changed', 2, 3, 4]\n"
    }
   ],
   "source": [
    "# -*- coding: utf-8 -*-\n",
    "from copy import copy\n",
    "\n",
    "a = [1,2,3,4]\n",
    "print(\"a is : \", a)\n",
    "\n",
    "# b is exactly a\n",
    "b = a\n",
    "\n",
    "# c is the COPIED a\n",
    "c = copy(a)\n",
    "\n",
    "# change 1st element of c\n",
    "c[0] = \"c[0] changed\"\n",
    "\n",
    "# check if a is gonna change\n",
    "print(\"After c is changed\\na : \", a)\n",
    "print(\"b : \", b)\n",
    "print(\"c : \", c)\n",
    "\n",
    "# change 1st element of b\n",
    "b[0] = \"b[0] changed\"\n",
    "\n",
    "# check if a is gonna change\n",
    "print(\"After b is changed\\na : \", a)\n",
    "print(\"b : \", b)\n",
    "print(\"c : \", c)\n"
   ]
  },
  {
   "cell_type": "code",
   "execution_count": 22,
   "metadata": {},
   "outputs": [
    {
     "ename": "TypeError",
     "evalue": "'tuple' object does not support item assignment",
     "output_type": "error",
     "traceback": [
      "\u001b[1;31m---------------------------------------------------------------------------\u001b[0m",
      "\u001b[1;31mTypeError\u001b[0m                                 Traceback (most recent call last)",
      "\u001b[1;32m<ipython-input-22-50510a9550a2>\u001b[0m in \u001b[0;36m<module>\u001b[1;34m\u001b[0m\n\u001b[0;32m      8\u001b[0m \u001b[1;33m\u001b[0m\u001b[0m\n\u001b[0;32m      9\u001b[0m \u001b[1;31m# try to update tuple's first element\u001b[0m\u001b[1;33m\u001b[0m\u001b[1;33m\u001b[0m\u001b[1;33m\u001b[0m\u001b[0m\n\u001b[1;32m---> 10\u001b[1;33m \u001b[0mphysical_const\u001b[0m\u001b[1;33m[\u001b[0m\u001b[1;36m0\u001b[0m\u001b[1;33m]\u001b[0m \u001b[1;33m=\u001b[0m \u001b[1;36m3.1415\u001b[0m\u001b[1;33m\u001b[0m\u001b[1;33m\u001b[0m\u001b[0m\n\u001b[0m",
      "\u001b[1;31mTypeError\u001b[0m: 'tuple' object does not support item assignment"
     ]
    }
   ],
   "source": [
    "# -*- coding: utf-8 -*- \n",
    "\n",
    "# define a tuple by () \n",
    "# (*NOTE) list : [], tuple : ()\n",
    "ex1 = ()\n",
    "ex2 = ('a', 'b', ('ab', 'cd'))\n",
    "physical_const = (3.141592, 1.38e-23, 1.05e-34)\n",
    "\n",
    "# try to update tuple's first element\n",
    "physical_const[0] = 3.1415    "
   ]
  },
  {
   "cell_type": "code",
   "execution_count": 27,
   "metadata": {},
   "outputs": [
    {
     "name": "stdout",
     "output_type": "stream",
     "text": "Access to birth of human1 :  0909\n'name' in human1 :  True\n'email' in human1 :  False\n"
    }
   ],
   "source": [
    "# -*- coding: utf-8 -*- \n",
    "\n",
    "# append new dictionary key and value\n",
    "# (*NOTE) \"24\" is string but 24 is int type!!!\n",
    "human1 = dic = {'name':'sunPark', 'phone':'01011112222', 'birth': '0909'}   \n",
    "human1[\"age\"] = \"24\"\n",
    "\n",
    "# print birth value of human1\n",
    "print(\"Access to birth of human1 : \", human1[\"birth\"])\n",
    "\n",
    "\n",
    "# check if 'name' is in human1 dictionary\n",
    "print(\"'name' in human1 : \", 'name' in human1)\n",
    "\n",
    "# check if 'email' is in human1 dictionary\n",
    "print(\"'email' in human1 : \", 'email' in human1)"
   ]
  },
  {
   "cell_type": "code",
   "execution_count": 29,
   "metadata": {},
   "outputs": [
    {
     "name": "stdout",
     "output_type": "stream",
     "text": "<class 'str'>\n"
    },
    {
     "ename": "ValueError",
     "evalue": "could not convert string to float: ",
     "output_type": "error",
     "traceback": [
      "\u001b[1;31m---------------------------------------------------------------------------\u001b[0m",
      "\u001b[1;31mValueError\u001b[0m                                Traceback (most recent call last)",
      "\u001b[1;32m<ipython-input-29-0a43221d0480>\u001b[0m in \u001b[0;36m<module>\u001b[1;34m\u001b[0m\n\u001b[0;32m      7\u001b[0m \u001b[0mprint\u001b[0m\u001b[1;33m(\u001b[0m\u001b[0mtype\u001b[0m\u001b[1;33m(\u001b[0m\u001b[0mdata\u001b[0m\u001b[1;33m)\u001b[0m\u001b[1;33m)\u001b[0m\u001b[1;33m\u001b[0m\u001b[1;33m\u001b[0m\u001b[0m\n\u001b[0;32m      8\u001b[0m \u001b[1;33m\u001b[0m\u001b[0m\n\u001b[1;32m----> 9\u001b[1;33m \u001b[1;32mif\u001b[0m \u001b[0mfloat\u001b[0m\u001b[1;33m(\u001b[0m\u001b[0mdata\u001b[0m\u001b[1;33m)\u001b[0m \u001b[1;32mis\u001b[0m \u001b[1;32mnot\u001b[0m \u001b[0mnp\u001b[0m\u001b[1;33m.\u001b[0m\u001b[0misnan\u001b[0m\u001b[1;33m:\u001b[0m \u001b[1;31m# check if data is pure number\u001b[0m\u001b[1;33m\u001b[0m\u001b[1;33m\u001b[0m\u001b[0m\n\u001b[0m\u001b[0;32m     10\u001b[0m   \u001b[0mdata\u001b[0m \u001b[1;33m=\u001b[0m \u001b[0mfloat\u001b[0m\u001b[1;33m(\u001b[0m\u001b[0mdata\u001b[0m\u001b[1;33m)\u001b[0m\u001b[1;33m\u001b[0m\u001b[1;33m\u001b[0m\u001b[0m\n\u001b[0;32m     11\u001b[0m   \u001b[1;31m# type casting to float\u001b[0m\u001b[1;33m\u001b[0m\u001b[1;33m\u001b[0m\u001b[1;33m\u001b[0m\u001b[0m\n",
      "\u001b[1;31mValueError\u001b[0m: could not convert string to float: "
     ]
    }
   ],
   "source": [
    "# -*- coding: utf-8 -*- \n",
    "import numpy as np\n",
    "\n",
    "# \\t means makes a horizontal Tab space\n",
    "data = input(\"you can write a sentence before : \\t\") \n",
    "\n",
    "print(type(data))\n",
    "\n",
    "if float(data) is not np.isnan: # check if data is pure number\n",
    "  data = float(data)\n",
    "  # type casting to float\n",
    "  print(\"INPUT is float \", type(data))\n",
    "else:\n",
    "  print(\"INPUT is not a number \", type(data))\n",
    "  pass"
   ]
  },
  {
   "cell_type": "code",
   "execution_count": 30,
   "metadata": {},
   "outputs": [
    {
     "name": "stdout",
     "output_type": "stream",
     "text": "c is False variable\nb : 52 is less than 54\nname string is in list a\n"
    }
   ],
   "source": [
    "# -*- coding: utf-8 -*- \n",
    "a = [1,2,3,4,5, \"name\", \"1e-4\"]\n",
    "b = 52\n",
    "c = False\n",
    "\n",
    "if c is True:\n",
    "  print(\"c is True variable\")\n",
    "else:\n",
    "  print(\"c is False variable\")\n",
    "  \n",
    "if b < 54:\n",
    "  print(\"b : %d is less than 54\" %(b))\n",
    "  # %d means int type variable\n",
    "  b = b + 15\n",
    "  # (*NOTE) b ++, b +=15 are invalid expressions\n",
    "elif b > 56:\n",
    "  # even if b becomes 67, this code doesn't run\n",
    "  print(\"b : %d is more than 56\" %(b))\n",
    "else:\n",
    "  print(\"b is 55 if b is int type\")\n",
    "  \n",
    "if \"birthday\" in a:\n",
    "  # you can search an element by using \"in\"\n",
    "  print(\"birthday string is in list a\")\n",
    "elif \"name\" in a:\n",
    "  print(\"name string is in list a\")\n",
    "else:\n",
    "  print(\"I give up.\") "
   ]
  },
  {
   "cell_type": "code",
   "execution_count": 31,
   "metadata": {},
   "outputs": [
    {
     "name": "stdout",
     "output_type": "stream",
     "text": "1 2 3 4 5 \nidx : 0,val: 1 idx : 1,val: 2 idx : 2,val: 3 idx : 3,val: 4 idx : 4,val: 5 \n0 1 2 3 4 5 6 7 8 9 \n2 3 4 5 6 7 8 9 \n2 4 6 8"
    }
   ],
   "source": [
    "a = [1,2,3,4,5]\n",
    "for val in a:\n",
    "  # list a iteration\n",
    "  print(val, end=\" \")\n",
    "  # print in one line\n",
    "print()  \n",
    "for idx, val in enumerate(a):\n",
    "  # you can get index and element by using enumerate(list)\n",
    "  print(\"idx : %d,val: %d\" %(idx, val), end=\" \")\n",
    "print()\n",
    "for val in range(10):\n",
    "  # 0 to 9\n",
    "  print(val, end=\" \")\n",
    "print()  \n",
    "for val in range(2,10):\n",
    "  # 2 to 9\n",
    "  print(val, end=\" \")\n",
    "print()\n",
    "for val in range(2, 10, 2):\n",
    "  # 2 to 9 interval 2\n",
    "  print(val, end=\" \")"
   ]
  },
  {
   "cell_type": "code",
   "execution_count": 32,
   "metadata": {},
   "outputs": [
    {
     "ename": "TypeError",
     "evalue": "'float' object cannot be interpreted as an integer",
     "output_type": "error",
     "traceback": [
      "\u001b[1;31m---------------------------------------------------------------------------\u001b[0m",
      "\u001b[1;31mTypeError\u001b[0m                                 Traceback (most recent call last)",
      "\u001b[1;32m<ipython-input-32-02df7f6df9b8>\u001b[0m in \u001b[0;36m<module>\u001b[1;34m\u001b[0m\n\u001b[0;32m      1\u001b[0m \u001b[1;31m# -*- coding: utf-8 -*-\u001b[0m\u001b[1;33m\u001b[0m\u001b[1;33m\u001b[0m\u001b[1;33m\u001b[0m\u001b[0m\n\u001b[1;32m----> 2\u001b[1;33m \u001b[1;32mfor\u001b[0m \u001b[0mval\u001b[0m \u001b[1;32min\u001b[0m \u001b[0mrange\u001b[0m\u001b[1;33m(\u001b[0m\u001b[1;36m0\u001b[0m\u001b[1;33m,\u001b[0m\u001b[1;36m10\u001b[0m\u001b[1;33m,\u001b[0m\u001b[1;36m0.5\u001b[0m\u001b[1;33m)\u001b[0m\u001b[1;33m:\u001b[0m\u001b[1;33m\u001b[0m\u001b[1;33m\u001b[0m\u001b[0m\n\u001b[0m\u001b[0;32m      3\u001b[0m   \u001b[1;31m# 0 to 9.9999 with interval 0.5\u001b[0m\u001b[1;33m\u001b[0m\u001b[1;33m\u001b[0m\u001b[1;33m\u001b[0m\u001b[0m\n\u001b[0;32m      4\u001b[0m   \u001b[0mprint\u001b[0m\u001b[1;33m(\u001b[0m\u001b[0mval\u001b[0m\u001b[1;33m,\u001b[0m \u001b[0mend\u001b[0m\u001b[1;33m=\u001b[0m\u001b[1;34m\" \"\u001b[0m\u001b[1;33m)\u001b[0m\u001b[1;33m\u001b[0m\u001b[1;33m\u001b[0m\u001b[0m\n",
      "\u001b[1;31mTypeError\u001b[0m: 'float' object cannot be interpreted as an integer"
     ]
    }
   ],
   "source": [
    "# -*- coding: utf-8 -*- \n",
    "for val in range(0,10,0.5):\n",
    "  # 0 to 9.9999 with interval 0.5\n",
    "  print(val, end=\" \")  "
   ]
  },
  {
   "cell_type": "code",
   "execution_count": 33,
   "metadata": {},
   "outputs": [
    {
     "name": "stdout",
     "output_type": "stream",
     "text": "0.0 0.88 1.76 2.64 3.52 4.4 5.28 6.16 7.04 7.92 8.8 9.68 \n0.0 1.0 2.0 3.0 4.0 5.0 6.0 7.0 8.0 9.0 10.0"
    }
   ],
   "source": [
    "import numpy as np\n",
    "a = np.arange(0.0, 10.0, 0.88)\n",
    "for val in a:\n",
    "    print(val, end=\" \")\n",
    "print()\n",
    "b = np.linspace(0.0, 10.0, 11)\n",
    "for val in b:\n",
    "    print(val, end=\" \")"
   ]
  },
  {
   "cell_type": "code",
   "execution_count": 35,
   "metadata": {},
   "outputs": [
    {
     "name": "stdout",
     "output_type": "stream",
     "text": "0.0 0.88 1.76 2.64 3.52 4.4 5.28 6.16 7.04 7.92 8.8 9.68"
    }
   ],
   "source": [
    "import numpy as np\n",
    "\n",
    "# make a list with step size 0.88\n",
    "a = np.arange(0.0, 10.0, 0.88)\n",
    "\n",
    "for val in a:\n",
    "    print(val, end=\" \")\n",
    "\n"
   ]
  },
  {
   "cell_type": "code",
   "execution_count": 36,
   "metadata": {},
   "outputs": [
    {
     "name": "stdout",
     "output_type": "stream",
     "text": "0.0 1.0 2.0 3.0 4.0 5.0 6.0 7.0 8.0 9.0 10.0"
    }
   ],
   "source": [
    "import numpy as np\n",
    "\n",
    "# make a list with size 11\n",
    "b = np.linspace(0.0, 10.0, 11)\n",
    "for val in b:\n",
    "    print(val, end=\" \")"
   ]
  },
  {
   "cell_type": "code",
   "execution_count": 37,
   "metadata": {},
   "outputs": [
    {
     "name": "stdout",
     "output_type": "stream",
     "text": "WRONG INPUT!\nWRONG INPUT!\nWRONG INPUT!\nWRONG INPUT!\ndata is : 20.000000\n"
    }
   ],
   "source": [
    "# -*- coding: utf-8 -*- \n",
    "import numpy as np\n",
    "\n",
    "while True:\n",
    "  # inf. loop\n",
    "  data = input(\"PLEASE INPUT NUMBER\\t\")\n",
    "  if data.isnumeric():\n",
    "    data = float(data)\n",
    "    print(\"data is : %f\" %(data))\n",
    "    break\n",
    "  else:\n",
    "    print(\"WRONG INPUT!\")   "
   ]
  },
  {
   "cell_type": "code",
   "execution_count": 40,
   "metadata": {},
   "outputs": [
    {
     "name": "stdout",
     "output_type": "stream",
     "text": "You just tried something wrong\n"
    }
   ],
   "source": [
    "# -*- coding: utf-8 -*- \n",
    "\n",
    "wrong_ex = \"string ipnida\"\n",
    "\n",
    "try:\n",
    "    wrong_result = wrong_ex + 20\n",
    "\n",
    "except:\n",
    "    print(\"You just tried something wrong\")\n",
    "\n"
   ]
  },
  {
   "cell_type": "code",
   "execution_count": 41,
   "metadata": {},
   "outputs": [
    {
     "name": "stdout",
     "output_type": "stream",
     "text": "You just tried TypeError\n"
    }
   ],
   "source": [
    "# -*- coding: utf-8 -*- \n",
    "\n",
    "wrong_ex = \"string ipnida\"\n",
    "\n",
    "try:\n",
    "    wrong_result = wrong_ex + 20\n",
    "\n",
    "except TypeError:\n",
    "    print(\"You just tried TypeError\")"
   ]
  },
  {
   "cell_type": "code",
   "execution_count": 42,
   "metadata": {},
   "outputs": [
    {
     "ename": "TypeError",
     "evalue": "can only concatenate str (not \"int\") to str",
     "output_type": "error",
     "traceback": [
      "\u001b[1;31m---------------------------------------------------------------------------\u001b[0m",
      "\u001b[1;31mTypeError\u001b[0m                                 Traceback (most recent call last)",
      "\u001b[1;32m<ipython-input-42-a260456a216d>\u001b[0m in \u001b[0;36m<module>\u001b[1;34m\u001b[0m\n\u001b[0;32m      4\u001b[0m \u001b[1;33m\u001b[0m\u001b[0m\n\u001b[0;32m      5\u001b[0m \u001b[1;32mtry\u001b[0m\u001b[1;33m:\u001b[0m\u001b[1;33m\u001b[0m\u001b[1;33m\u001b[0m\u001b[0m\n\u001b[1;32m----> 6\u001b[1;33m     \u001b[0mwrong_result\u001b[0m \u001b[1;33m=\u001b[0m \u001b[0mwrong_ex\u001b[0m \u001b[1;33m+\u001b[0m \u001b[1;36m20\u001b[0m\u001b[1;33m\u001b[0m\u001b[1;33m\u001b[0m\u001b[0m\n\u001b[0m\u001b[0;32m      7\u001b[0m \u001b[1;33m\u001b[0m\u001b[0m\n\u001b[0;32m      8\u001b[0m \u001b[1;32mexcept\u001b[0m \u001b[0mEOFError\u001b[0m\u001b[1;33m:\u001b[0m\u001b[1;33m\u001b[0m\u001b[1;33m\u001b[0m\u001b[0m\n",
      "\u001b[1;31mTypeError\u001b[0m: can only concatenate str (not \"int\") to str"
     ]
    }
   ],
   "source": [
    "# -*- coding: utf-8 -*- \n",
    "\n",
    "wrong_ex = \"string ipnida\"\n",
    "\n",
    "try:\n",
    "    wrong_result = wrong_ex + 20\n",
    "\n",
    "except EOFError:\n",
    "    print(\"You just tried TypeError\")"
   ]
  },
  {
   "cell_type": "code",
   "execution_count": 49,
   "metadata": {},
   "outputs": [
    {
     "name": "stdout",
     "output_type": "stream",
     "text": "Radius 0.50, Turns 15000, Current 250.00 of Pancake's Center B Field : 1.50 [T]\n"
    }
   ],
   "source": [
    "# -*- coding: utf-8 -*- \n",
    "from numpy import pi\n",
    "# pi = 3.141592 선언보다 정확하고 멋있자너\n",
    "\n",
    "class Pancake():\n",
    "    # class 첫글자는 보통 대문자 시작\n",
    "    def __init__(self, r, N, current, superconductor):\n",
    "        # __init__()은 Pancake() 클래스를 만들자마자\n",
    "        # 실행되는 함수. self의 매개변수는 필수니 까먹지 마세요\n",
    "        # 지금 보면 self 외에 4개의 변수가 필요하므로\n",
    "        # ex_pancake = Pancake(10, 20, 100, \"YBCO\") 처럼 객체 생성\n",
    "\n",
    "        # Pancake 클래스 내부 변수 저장 \n",
    "        self.r = r # 내경\n",
    "        self.turns = N # 턴 수\n",
    "        self.Iop = current # 전류\n",
    "        self.material = superconductor # 물질\n",
    "\n",
    "    def calculateB(self): \n",
    "        # 중심자장 계산 (대충하는거니 따지지 마셈)\n",
    "        self.centerB = 4*pi*1e-7*self.turns*self.Iop/(2*pi*self.r)\n",
    "\n",
    "        # 계산된 값을 결과로 내뱉고 싶으면 return을 굳이 그러고 싶지 않으면 안 해도 됨\n",
    "        return self.centerB\n",
    "\n",
    "# 실 사용 예제 \n",
    "# Pancake() 객체 생성 \n",
    "ex1 = Pancake(0.5, 15000, 250, \"YBCO\")\n",
    "\n",
    "# ex1 팬케이크의 중심자장 계산 메소드 호출\n",
    "ex1.calculateB()\n",
    "\n",
    "# %.2f : 유효숫자 2개로 보여라 \n",
    "print(\"Radius %.2f, Turns %d, Current %.2f of Pancake's Center B Field : %.2f [T]\" \n",
    "    %(ex1.r, ex1.turns, ex1.Iop, ex1.centerB))\n"
   ]
  },
  {
   "cell_type": "code",
   "execution_count": 53,
   "metadata": {},
   "outputs": [
    {
     "name": "stdout",
     "output_type": "stream",
     "text": "Radius 0.50 [m], Turns 15000, Current 250.00 [A] of 4 Pancake Magnet's Center B Field : 6.00 [T]\n"
    }
   ],
   "source": [
    "# -*- coding: utf-8 -*- \n",
    "from numpy import pi\n",
    "\n",
    "class Pancake():\n",
    "    # class name usually starts with Capital letter\n",
    "    def __init__(self, r, N, current, superconductor):\n",
    "        # __init__(self) is the first method (like constructor)\n",
    "        # \"self\" is necessary argument\n",
    "\n",
    "        # To save variables\n",
    "        self.r = r # radius of pancake [m]\n",
    "        self.turns = N # number of turns [#]\n",
    "        self.Iop = current # operating current [A]\n",
    "        self.material = superconductor # material name\n",
    "\n",
    "    def calculateB(self): \n",
    "        # center magnetic field calculation\n",
    "        self.centerB = 4*pi*1e-7*self.turns*self.Iop/(2*pi*self.r)\n",
    "\n",
    "        # return is not necessary\n",
    "        return self.centerB\n",
    "\n",
    "class Magnet(Pancake):\n",
    "    # Magnet > Pancake\n",
    "    def __init__(self, r, N, current, superconductor, num_P):\n",
    "        # call Pancake's __init__()  \n",
    "        super().__init__(r, N, current, superconductor)\n",
    "\n",
    "        self.numPancakes = num_P # number of pancakes\n",
    "\n",
    "    def calculateB(self):\n",
    "        # Same method but different operation\n",
    "        self.magnetB = super().calculateB()*self.numPancakes\n",
    "\n",
    "        return self.magnetB\n",
    "\n",
    "# example\n",
    "ex_magnet = Magnet(0.5, 15000, 250, \"YBCO\", 4)\n",
    "ex_magnet.calculateB()\n",
    "\n",
    "print(\"Radius %.2f [m], Turns %d, Current %.2f [A] of %d Pancake Magnet's Center B Field : %.2f [T]\" \n",
    "    %(ex_magnet.r, ex_magnet.turns, ex_magnet.Iop, ex_magnet.numPancakes, ex_magnet.magnetB))"
   ]
  },
  {
   "cell_type": "code",
   "execution_count": 58,
   "metadata": {},
   "outputs": [
    {
     "name": "stdout",
     "output_type": "stream",
     "text": "for_out :  [0, 1, 2, 3, 4, 5]\nlist_out :  [0, 1, 2, 3, 4, 5]\nlambda_out :  [0, 1, 2, 3, 4, 5]\n"
    }
   ],
   "source": [
    "# -*- coding: utf-8 -*- \n",
    "ex1 = [10, 5, 22, 0, -22, 0.5]\n",
    "\n",
    "# using for - loop\n",
    "for_out = []\n",
    "for i in range(len(ex1)):\n",
    "    for_out.append(i)\n",
    "print(\"for_out : \", for_out)\n",
    "\n",
    "# using list(range)\n",
    "list_out = list(range(len(ex1)))\n",
    "print(\"list_out : \", list_out)\n",
    "\n",
    "#using lambda-map function\n",
    "lambda_out = list(map(lambda x: x, range(len(ex1))))\n",
    "print(\"lambda_out : \", lambda_out)"
   ]
  },
  {
   "cell_type": "code",
   "execution_count": 61,
   "metadata": {},
   "outputs": [],
   "source": [
    "# -*- coding: utf-8 -*- \n",
    "\n",
    "# a = write mode (init position: end)\n",
    "# r = read mode (init position: beginning)\n",
    "# w = write mode (new file)\n",
    "f = open(\"write.txt\", \"a\")\n",
    "for i in range(1, 11):\n",
    "    # write a new line \n",
    "    data = \"%dline\\n\" % i\n",
    "    f.write(data)\n",
    "f.close()"
   ]
  },
  {
   "cell_type": "code",
   "execution_count": 62,
   "metadata": {},
   "outputs": [
    {
     "name": "stdout",
     "output_type": "stream",
     "text": "data type:  <class 'list'> data size:  10\n['1line\\n', '2line\\n', '3line\\n', '4line\\n', '5line\\n', '6line\\n', '7line\\n', '8line\\n', '9line\\n', '10line\\n']\n"
    }
   ],
   "source": [
    "# -*- coding: utf-8 -*- \n",
    "\n",
    "# a = write mode (init position: end)\n",
    "# r = read mode (init position: beginning)\n",
    "# w = write mode (new file)\n",
    "f = open(\"write.txt\", \"r\")\n",
    "\n",
    "data = f.readlines() # read all text\n",
    "print(\"data type: \", type(data), \"data size: \", len(data))\n",
    "print(data)\n"
   ]
  },
  {
   "cell_type": "code",
   "execution_count": 4,
   "metadata": {},
   "outputs": [
    {
     "name": "stdout",
     "output_type": "stream",
     "text": "1line\n\n2line\n\n3line\n\n4line\n\n5line\n\n6line\n\n7line\n\n8line\n\n9line\n\n10line\n\n"
    }
   ],
   "source": [
    "# -*- coding: utf-8 -*- \n",
    "\n",
    "# a = write mode (init position: end)\n",
    "# r = read mode (init position: beginning)\n",
    "# w = write mode (new file)\n",
    "f = open(\"write.txt\", \"r\")\n",
    "while True:\n",
    "    line = f.readline()\n",
    "    if not line: break\n",
    "    print(line)\n",
    "f.close()"
   ]
  },
  {
   "cell_type": "code",
   "execution_count": 5,
   "metadata": {},
   "outputs": [
    {
     "name": "stdout",
     "output_type": "stream",
     "text": "sqrt(3):  1.7320508075688772\n"
    }
   ],
   "source": [
    "from numpy import sqrt \n",
    "print(\"sqrt(3): \" ,sqrt(3))"
   ]
  },
  {
   "cell_type": "code",
   "execution_count": 6,
   "metadata": {},
   "outputs": [
    {
     "name": "stdout",
     "output_type": "stream",
     "text": "np.sqrt(3):  1.7320508075688772\n"
    }
   ],
   "source": [
    "import numpy as np\n",
    "print(\"np.sqrt(3): \" ,np.sqrt(3))"
   ]
  },
  {
   "cell_type": "code",
   "execution_count": null,
   "metadata": {},
   "outputs": [],
   "source": []
  }
 ]
}